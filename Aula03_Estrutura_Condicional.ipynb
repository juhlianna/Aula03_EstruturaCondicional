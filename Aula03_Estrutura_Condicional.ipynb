{
  "nbformat": 4,
  "nbformat_minor": 0,
  "metadata": {
    "colab": {
      "name": "Aula03 Estrutura Condicional.ipynb",
      "provenance": [],
      "authorship_tag": "ABX9TyOIF/kxhnQRBvGVX9G75a9F",
      "include_colab_link": true
    },
    "kernelspec": {
      "name": "python3",
      "display_name": "Python 3"
    },
    "language_info": {
      "name": "python"
    }
  },
  "cells": [
    {
      "cell_type": "markdown",
      "metadata": {
        "id": "view-in-github",
        "colab_type": "text"
      },
      "source": [
        "<a href=\"https://colab.research.google.com/github/juhlianna/Aula03_EstruturaCondicional/blob/main/Aula03_Estrutura_Condicional.ipynb\" target=\"_parent\"><img src=\"https://colab.research.google.com/assets/colab-badge.svg\" alt=\"Open In Colab\"/></a>"
      ]
    },
    {
      "cell_type": "markdown",
      "source": [
        "# Condicional Simples"
      ],
      "metadata": {
        "id": "XuPEm6h70dXB"
      }
    },
    {
      "cell_type": "code",
      "source": [
        "# Lê dois valores inteiros e compara ambos"
      ],
      "metadata": {
        "id": "k5orXYZx0pTn"
      },
      "execution_count": null,
      "outputs": []
    },
    {
      "cell_type": "code",
      "execution_count": 1,
      "metadata": {
        "colab": {
          "base_uri": "https://localhost:8080/"
        },
        "id": "w14XYmdv0YAl",
        "outputId": "1b35e354-2faf-427e-db8e-c6da59a15845"
      },
      "outputs": [
        {
          "output_type": "stream",
          "name": "stdout",
          "text": [
            "Digite um valor inteiro: 8\n",
            "Digite um segundo valor inteiro: 3\n",
            "O primeiro valor é maior que o segundo\n"
          ]
        }
      ],
      "source": [
        "x = int(input(\"Digite um valor inteiro: \"))\n",
        "y = int(input(\"Digite um segundo valor inteiro: \"))\n",
        "if (x > y):\n",
        "    print(\"O primeiro valor é maior que o segundo\")"
      ]
    },
    {
      "cell_type": "markdown",
      "source": [
        "# Condicional Composta"
      ],
      "metadata": {
        "id": "QRtZcJXz12y7"
      }
    },
    {
      "cell_type": "code",
      "source": [
        "# par ou ímpar"
      ],
      "metadata": {
        "id": "e58LJb992EFR"
      },
      "execution_count": null,
      "outputs": []
    },
    {
      "cell_type": "code",
      "source": [
        "x = int(input(\"Digite um valor inteiro: \"))\n",
        "if (x % 2 == 0):\n",
        "    print(\"O número é par! \")\n",
        "else:\n",
        "    print(\"O número é ímpar! \")   \n"
      ],
      "metadata": {
        "colab": {
          "base_uri": "https://localhost:8080/"
        },
        "id": "3oDkiR5Z2IIi",
        "outputId": "940c0c19-1f54-45de-846f-c77f0150ddfd"
      },
      "execution_count": 3,
      "outputs": [
        {
          "output_type": "stream",
          "name": "stdout",
          "text": [
            "Digite um valor inteiro: 15\n",
            "O número é ímpar! \n"
          ]
        }
      ]
    },
    {
      "cell_type": "markdown",
      "source": [
        "# EXPRESSÓES LÓGICAS E ALGEBRA BOOLEANA"
      ],
      "metadata": {
        "id": "K7CbVAxd4JUl"
      }
    },
    {
      "cell_type": "code",
      "source": [
        "# not\n",
        "x = True\n",
        "y = False\n",
        "print(not x)\n",
        "print(not y)\n"
      ],
      "metadata": {
        "colab": {
          "base_uri": "https://localhost:8080/"
        },
        "id": "RmMupXPB4QM8",
        "outputId": "9ede3aa5-f927-4d0a-906e-3b72556b63a0"
      },
      "execution_count": 4,
      "outputs": [
        {
          "output_type": "stream",
          "name": "stdout",
          "text": [
            "False\n",
            "True\n"
          ]
        }
      ]
    },
    {
      "cell_type": "code",
      "source": [
        "# and\n",
        "x = True\n",
        "y = False\n",
        "print(x and y)\n"
      ],
      "metadata": {
        "colab": {
          "base_uri": "https://localhost:8080/"
        },
        "id": "akJO0Yyk4pQa",
        "outputId": "2f7d6fbb-6fe2-47de-c022-8587a5a2781e"
      },
      "execution_count": 5,
      "outputs": [
        {
          "output_type": "stream",
          "name": "stdout",
          "text": [
            "False\n"
          ]
        }
      ]
    },
    {
      "cell_type": "code",
      "source": [
        "# or\n",
        "x = True\n",
        "y = False\n",
        "print(x or y)\n"
      ],
      "metadata": {
        "colab": {
          "base_uri": "https://localhost:8080/"
        },
        "id": "x8_xsHjS420x",
        "outputId": "9cacbaf5-92d8-4014-f3be-3a99a1dcf28b"
      },
      "execution_count": 6,
      "outputs": [
        {
          "output_type": "stream",
          "name": "stdout",
          "text": [
            "True\n"
          ]
        }
      ]
    },
    {
      "cell_type": "markdown",
      "source": [
        "# EXPRESSÕES LÓGICAS / BOOLEANAS"
      ],
      "metadata": {
        "id": "eN682Kyl5aGQ"
      }
    },
    {
      "cell_type": "code",
      "source": [
        "x = 10\n",
        "y = 1\n",
        "res = not x > y\n",
        "print(res)\n"
      ],
      "metadata": {
        "colab": {
          "base_uri": "https://localhost:8080/"
        },
        "id": "U-eL7fjc5ee4",
        "outputId": "64b7d708-a1e5-499b-a0b4-04ee1e4a846e"
      },
      "execution_count": 7,
      "outputs": [
        {
          "output_type": "stream",
          "name": "stdout",
          "text": [
            "False\n"
          ]
        }
      ]
    },
    {
      "cell_type": "code",
      "source": [
        "x = 10\n",
        "y = 1\n",
        "z = 5.5\n",
        "res = x > y and z == y\n",
        "print(res)\n"
      ],
      "metadata": {
        "colab": {
          "base_uri": "https://localhost:8080/"
        },
        "id": "5iG84ZeL5v4v",
        "outputId": "24a0af9b-cae6-4d73-a32a-62ce72ef67bf"
      },
      "execution_count": 8,
      "outputs": [
        {
          "output_type": "stream",
          "name": "stdout",
          "text": [
            "False\n"
          ]
        }
      ]
    },
    {
      "cell_type": "markdown",
      "source": [
        "# EXERCÍCIO"
      ],
      "metadata": {
        "id": "XmoXS1Gd6n3k"
      }
    },
    {
      "cell_type": "code",
      "source": [
        "# Um aluno, para passar de ano, precisa ser aprovado em todas as matérias que está cursando.\n",
        "# Assuma que a média para aprovação é a partir de 7, e que o aluno cursa 3 matérias, somente. \n",
        "# Escreva um algoritmo que leia a nota final do aluno em cada matéria e informe, na tela, se\n",
        "# ele passou de ano ou não.\n",
        "\n",
        "m1 = float(input(\"Digite a nota da 1ª matéria: \"))\n",
        "m2 = float(input(\"Digite a nota da 2ª matéria: \"))\n",
        "m3 = float(input(\"Digite a nota da 3ª matéria: \"))\n",
        "if m1 >= 7 and m2 >= 7 and m3 >= 7:\n",
        "    print(\"O aluno está aprovado de ano!\");\n",
        "else:\n",
        "    print(\"O aluno não passou de ano!\");\n"
      ],
      "metadata": {
        "colab": {
          "base_uri": "https://localhost:8080/"
        },
        "id": "754wx2vb6qxs",
        "outputId": "c255b97c-8f7c-45dd-dc77-6a6240a6460c"
      },
      "execution_count": 9,
      "outputs": [
        {
          "output_type": "stream",
          "name": "stdout",
          "text": [
            "Digite a nota da 1ª matéria: 7.5\n",
            "Digite a nota da 2ª matéria: 8.5\n",
            "Digite a nota da 3ª matéria: 5.5\n",
            "O aluno não passou de ano!\n"
          ]
        }
      ]
    },
    {
      "cell_type": "markdown",
      "source": [
        "# CONDICIONAIS ANINHADAS"
      ],
      "metadata": {
        "id": "DnLGSJmj8YtR"
      }
    },
    {
      "cell_type": "code",
      "source": [
        "# Escreva um algoritmo em Python em que o usuário escolhe se quer comprar maçãs, laranjas ou bananas.\n",
        "# Deverá ser apresentado na tela um menu com as opções: 1 para maça, 2 para laranja e 3 para banana.\n",
        "# Após escolhida a fruta, deve-se digitar quantas unidades se quer comprar. O algoritmo deve calcular\n",
        "# o preço total a pagar do produto escolhido e mostrá-lo na tela.\n",
        "# Considere que uma maçã custa R$ 2.30, uma laranja R$ 3.60 e uma banana R$ 1.85\n",
        "\n",
        "print(\"Escolha o que deseja comprar: \")\n",
        "print(\"1 - Maçã\")\n",
        "print(\"2 - Laranja\")\n",
        "print(\"3 - Banana\")\n",
        "produto = int(input(\"Qual a sua escolha? \"))\n",
        "qtd = int(input(\"Quantas unidades? \"))\n",
        "if (produto == 1):\n",
        "    pagar = qtd * 2.3\n",
        "    print(\"Você comprou {} maçãs. Total a pagar: {}\".format(qtd,pagar))\n",
        "else:\n",
        "    if (produto == 2):\n",
        "        pagar = qtd * 3.6\n",
        "        print(\"Você comprou {} laranjas. Total a pagar: {}\".format(qtd,pagar))\n",
        "    else:\n",
        "      if (produto == 3):\n",
        "        pagar = qtd * 1.85\n",
        "        print(\"Você comprou {} bananas. Total a pagar: {}\".format(qtd,pagar))\n",
        "      else:\n",
        "          print(\"Produto Inexistente! \")\n"
      ],
      "metadata": {
        "colab": {
          "base_uri": "https://localhost:8080/"
        },
        "id": "ZgEUEoa98bP3",
        "outputId": "3daa740e-fcec-46bb-f762-ef25c8e702a8"
      },
      "execution_count": 11,
      "outputs": [
        {
          "output_type": "stream",
          "name": "stdout",
          "text": [
            "Escolha o que deseja comprar: \n",
            "1 - Maçã\n",
            "2 - Laranja\n",
            "3 - Banana\n",
            "Qual a sua escolha? 2\n",
            "Quantas unidades? 5\n",
            "Você comprou 5 laranjas. Total a pagar: 18.0\n"
          ]
        }
      ]
    },
    {
      "cell_type": "markdown",
      "source": [
        "# CONDICIONAIS DE MÚLTIPLA ESCOLHA"
      ],
      "metadata": {
        "id": "FZGY4x5BDOY8"
      }
    },
    {
      "cell_type": "code",
      "source": [
        "# Escreva um algoritmo em Python em que o usuário escolhe se quer comprar maçãs, laranjas ou bananas.\n",
        "# Deverá ser apresentado na tela um menu com as opções: 1 para maça, 2 para laranja e 3 para banana.\n",
        "# Após escolhida a fruta, deve-se digitar quantas unidades se quer comprar. O algoritmo deve calcular\n",
        "# o preço total a pagar do produto escolhido e mostrá-lo na tela.\n",
        "# Considere que uma maçã custa R$ 2.30, uma laranja R$ 3.60 e uma banana R$ 1.85\n",
        "\n",
        "print(\"Escolha o que deseja comprar: \")\n",
        "print(\"1 - Maçã\")\n",
        "print(\"2 - Laranja\")\n",
        "print(\"3 - Banana\")\n",
        "produto = int(input(\"Qual a sua escolha? \"))\n",
        "qtd = int(input(\"Quantas unidades? \"))\n",
        "if (produto == 1):\n",
        "    pagar = qtd * 2.3\n",
        "    print(\"Você comprou {} maçãs. Total a pagar: {}\".format(qtd,pagar))\n",
        "elif (produto == 2):\n",
        "    pagar = qtd * 3.6\n",
        "    print(\"Você comprou {} laranjas. Total a pagar: {}\".format(qtd,pagar))\n",
        "elif (produto == 3):\n",
        "    pagar = qtd * 1.85\n",
        "    print(\"Você comprou {} bananas. Total a pagar: {}\".format(qtd,pagar))\n",
        "else:\n",
        "    print(\"Produto Inexistente! \")"
      ],
      "metadata": {
        "colab": {
          "base_uri": "https://localhost:8080/"
        },
        "id": "t_MmT7zOCks-",
        "outputId": "3bfb7c90-4a2c-4cd9-b9bf-3aff8fbd45e2"
      },
      "execution_count": 12,
      "outputs": [
        {
          "output_type": "stream",
          "name": "stdout",
          "text": [
            "Escolha o que deseja comprar: \n",
            "1 - Maçã\n",
            "2 - Laranja\n",
            "3 - Banana\n",
            "Qual a sua escolha? 1\n",
            "Quantas unidades? 3\n",
            "Você comprou 3 maçãs. Total a pagar: 6.8999999999999995\n"
          ]
        }
      ]
    },
    {
      "cell_type": "code",
      "source": [
        "# Escreva um algoritmo que lê um nome e uma idade\n",
        "# Caso o nome digitado seja Vinicius, escreva isso na tela.\n",
        "# Caso o usuário digite qualquer outro nome, verifique sua idade. Se for menor de 18 anos, informe\n",
        "# que é de menor. Se for maior que 100 anos, informe que esta pessoa possivelmente não existe.\n",
        "\n",
        "nome = input(\"Qual seu nome? \")\n",
        "idade = int(input(\"Qual sua idade? \"))\n",
        "if nome == \"Vinicius\":\n",
        "    print(\"Olá Vinicius!\")\n",
        "elif idade < 18:\n",
        "    print(\"Você não é Vinicius! E é menor de idade!\")\n",
        "elif idade > 100:\n",
        "    print(\"Diferente de você, o Vinicius não é imortal!\")\n",
        "\n",
        "       "
      ],
      "metadata": {
        "colab": {
          "base_uri": "https://localhost:8080/"
        },
        "id": "B3m3lvV0D0ti",
        "outputId": "d595b5de-fcf8-4e81-d6c6-35228abaeb4d"
      },
      "execution_count": 13,
      "outputs": [
        {
          "output_type": "stream",
          "name": "stdout",
          "text": [
            "Qual seu nome? Vinicius\n",
            "Qual sua idade? 18\n",
            "Olá Vinicius!\n"
          ]
        }
      ]
    },
    {
      "cell_type": "code",
      "source": [
        "# Escreva um algoritmo que lê um nome e uma idade\n",
        "# Caso o nome digitado seja Vinicius, escreva isso na tela.\n",
        "# Caso o usuário digite qualquer outro nome, verifique sua idade. Se for menor de 18 anos, informe\n",
        "# que é de menor. Se for maior que 100 anos, informe que esta pessoa possivelmente não existe.\n",
        "\n",
        "nome = input(\"Qual seu nome? \")\n",
        "idade = int(input(\"Qual sua idade? \"))\n",
        "if nome == \"Vinicius\":\n",
        "    print(\"Olá Vinicius!\")\n",
        "elif idade < 18:\n",
        "    print(\"Você não é Vinicius! E é menor de idade!\")\n",
        "elif idade > 100:\n",
        "    print(\"Diferente de você, o Vinicius não é imortal!\")"
      ],
      "metadata": {
        "colab": {
          "base_uri": "https://localhost:8080/"
        },
        "id": "XPVOQbqyF9Ct",
        "outputId": "11a7c8c8-3ea0-4136-bf2e-216bd8338182"
      },
      "execution_count": 14,
      "outputs": [
        {
          "name": "stdout",
          "output_type": "stream",
          "text": [
            "Qual seu nome? Juliana\n",
            "Qual sua idade? 60\n"
          ]
        }
      ]
    }
  ]
}